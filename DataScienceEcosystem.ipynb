{
 "cells": [
  {
   "cell_type": "markdown",
   "id": "54f3604f",
   "metadata": {},
   "source": [
    "## File Name -  DataScienceEcosystem.ipynb"
   ]
  },
  {
   "cell_type": "markdown",
   "id": "2538bc37",
   "metadata": {},
   "source": [
    "## Exercise 2: Create markdown cell with title of the notebook"
   ]
  },
  {
   "cell_type": "markdown",
   "id": "4e1d88e5",
   "metadata": {},
   "source": [
    "# Data Science Tools and Ecosystem"
   ]
  },
  {
   "cell_type": "markdown",
   "id": "aeec35e8",
   "metadata": {},
   "source": [
    "## Exercise 3 - Create a markdown cell for an introduction"
   ]
  },
  {
   "cell_type": "markdown",
   "id": "11ca1b7f",
   "metadata": {},
   "source": [
    "In this notebook, Data Science Tools and Ecosystem are summarized."
   ]
  },
  {
   "cell_type": "markdown",
   "id": "fff7839c",
   "metadata": {},
   "source": [
    "## Exercise 4 - Create a markdown cell to list data science languages"
   ]
  },
  {
   "cell_type": "markdown",
   "id": "7429b60e",
   "metadata": {},
   "source": [
    "Some of the popular languages Data Scientists user are: \n",
    "\n",
    "1. Python\n",
    "2. R\n",
    "3. Julia\n",
    "4. SQL (Structured Query Language)\n",
    "5. SAS (Statistical Analysis System)\n",
    "6. Scala\n",
    "7. Java\n",
    "8. C++\n",
    "9. Javascript\n",
    "10. Ruby\n",
    "11. Visual Basic"
   ]
  },
  {
   "cell_type": "markdown",
   "id": "5e5b2a75",
   "metadata": {},
   "source": [
    "## Exercise 5 - Create a markdown cell to list data science libraries"
   ]
  },
  {
   "cell_type": "markdown",
   "id": "a3eb6535",
   "metadata": {},
   "source": [
    "Some of the commonly used libraries used by Data Scientists include:\n",
    "\n",
    "1. Pandas\n",
    "2. Keras\n",
    "3. TensorFlow\n",
    "4. PyTorch\n",
    "5. Scikit-Learn\n",
    "6. Numpy\n",
    "7. Seaborn\n",
    "8. Ggplot\n",
    "9. Vegas\n",
    "10. Big DL"
   ]
  },
  {
   "cell_type": "markdown",
   "id": "b383ad38",
   "metadata": {},
   "source": [
    "## Exercise 6 - Create a markdown cell with a table of Data Science tools"
   ]
  },
  {
   "cell_type": "markdown",
   "id": "aed95b3f",
   "metadata": {},
   "source": [
    "| Data Science Tools |\n",
    "|:-------------------|\n",
    "|Jupyter Notebook    |\n",
    "|Pycharm             |\n",
    "|R Studio            |\n",
    "|Google Colab        |\n",
    "|Matlab              |\n",
    "|Github              |\n",
    "|Tableau             |"
   ]
  },
  {
   "cell_type": "markdown",
   "id": "a187b4cb",
   "metadata": {},
   "source": [
    "## Exercise 7 - Create a markdown cell introducing arithmetic expression examples\n",
    "\n"
   ]
  },
  {
   "cell_type": "markdown",
   "id": "256def14",
   "metadata": {},
   "source": [
    "# Below are a few examples of evaluating arithmetic expressions in Python  \n",
    "\n",
    "### Addition\n",
    "result_add = 5 + 3  # Output: 8\n",
    "\n",
    "### Subtraction\n",
    "result_sub = 10 - 4  # Output: 6\n",
    "\n",
    "### Multiplication\n",
    "result_mul = 7 * 6  # Output: 42\n",
    "\n",
    "### Division\n",
    "result_div = 20 / 4  # Output: 5.0\n",
    "\n",
    "### Exponentiation\n",
    "result_exp = 2 ** 3  # Output: 8\n",
    "\n",
    "### Modulus\n",
    "result_mod = 17 % 5  # Output: 2"
   ]
  },
  {
   "cell_type": "markdown",
   "id": "77ce8961",
   "metadata": {},
   "source": [
    "## Exercise 8 - Create a code cell to multiply and add numbers "
   ]
  },
  {
   "cell_type": "code",
   "execution_count": 3,
   "id": "94d057f4",
   "metadata": {},
   "outputs": [
    {
     "data": {
      "text/plain": [
       "17"
      ]
     },
     "execution_count": 3,
     "metadata": {},
     "output_type": "execute_result"
    }
   ],
   "source": [
    "#This is a sample of arithmatic expression to multiply then addition integer\n",
    "(3*4)+5"
   ]
  },
  {
   "cell_type": "markdown",
   "id": "d395e3e4",
   "metadata": {},
   "source": [
    "## Exercise 9 - Create a code cell to convert minutes to hours "
   ]
  },
  {
   "cell_type": "code",
   "execution_count": 7,
   "id": "eba4da4a",
   "metadata": {},
   "outputs": [
    {
     "data": {
      "text/plain": [
       "3.33"
      ]
     },
     "execution_count": 7,
     "metadata": {},
     "output_type": "execute_result"
    }
   ],
   "source": [
    "#This will convert 200 minutes to hours by dividing 60\n",
    "round(200/60,2)"
   ]
  },
  {
   "cell_type": "markdown",
   "id": "82969c8f",
   "metadata": {},
   "source": [
    "## Exercise 10 - Insert a markdown cell to list Objectives "
   ]
  },
  {
   "cell_type": "markdown",
   "id": "fd944399",
   "metadata": {},
   "source": [
    "### Objective\n",
    "+ Add comments to code cell\n",
    "+ Create markdown cells\n",
    "+ Add ordered and unordered list to markdown cell\n",
    "+ Format content of markdown cells with heading style\n",
    "+ create arithmetic operations with comment in code cell"
   ]
  },
  {
   "cell_type": "markdown",
   "id": "99673187",
   "metadata": {},
   "source": [
    "## Author"
   ]
  },
  {
   "cell_type": "markdown",
   "id": "049ed87c",
   "metadata": {},
   "source": [
    "**_Abhishek Das_**"
   ]
  },
  {
   "cell_type": "code",
   "execution_count": null,
   "id": "807669df",
   "metadata": {},
   "outputs": [],
   "source": []
  }
 ],
 "metadata": {
  "kernelspec": {
   "display_name": "Python 3 (ipykernel)",
   "language": "python",
   "name": "python3"
  },
  "language_info": {
   "codemirror_mode": {
    "name": "ipython",
    "version": 3
   },
   "file_extension": ".py",
   "mimetype": "text/x-python",
   "name": "python",
   "nbconvert_exporter": "python",
   "pygments_lexer": "ipython3",
   "version": "3.9.7"
  }
 },
 "nbformat": 4,
 "nbformat_minor": 5
}
