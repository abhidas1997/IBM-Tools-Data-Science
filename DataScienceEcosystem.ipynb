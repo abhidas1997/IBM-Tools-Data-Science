{
 "cells": [
  {
   "cell_type": "markdown",
   "id": "fdd5f83f",
   "metadata": {},
   "source": [
    "## File Name -  DataScienceEcosystem.ipynb"
   ]
  },
  {
   "cell_type": "markdown",
   "id": "35d01635",
   "metadata": {},
   "source": [
    "## Exercise 2: Create markdown cell with title of the notebook"
   ]
  },
  {
   "cell_type": "markdown",
   "id": "c7cbe812",
   "metadata": {},
   "source": [
    "# Data Science Tools and Ecosystem"
   ]
  },
  {
   "cell_type": "markdown",
   "id": "0e460364",
   "metadata": {},
   "source": [
    "## Exercise 3 - Create a markdown cell for an introduction"
   ]
  },
  {
   "cell_type": "markdown",
   "id": "d05d31a7",
   "metadata": {},
   "source": [
    "In this notebook, Data Science Tools and Ecosystem are summarized."
   ]
  },
  {
   "cell_type": "markdown",
   "id": "b4f0cafa",
   "metadata": {},
   "source": [
    "## Exercise 4 - Create a markdown cell to list data science languages"
   ]
  },
  {
   "cell_type": "markdown",
   "id": "85793599",
   "metadata": {},
   "source": [
    "1. Python\n",
    "2. R\n",
    "3. Julia\n",
    "4. SQL (Structured Query Language)\n",
    "5. SAS (Statistical Analysis System)"
   ]
  },
  {
   "cell_type": "markdown",
   "id": "0ed8c70e",
   "metadata": {},
   "source": [
    "## Exercise 5 - Create a markdown cell to list data science libraries"
   ]
  },
  {
   "cell_type": "markdown",
   "id": "7dc8fa5e",
   "metadata": {},
   "source": [
    "1. Pandas\n",
    "2. Keras\n",
    "3. TensorFlow\n",
    "4. PyTorch\n",
    "5. Scikit-Learn\n",
    "6. Numpy"
   ]
  },
  {
   "cell_type": "markdown",
   "id": "7b9ceba9",
   "metadata": {},
   "source": [
    "## Exercise 6 - Create a markdown cell with a table of Data Science tools"
   ]
  },
  {
   "cell_type": "markdown",
   "id": "113e5063",
   "metadata": {},
   "source": [
    "1. Jupyter Notebook\n",
    "2. Pycharm\n",
    "3. R Studio\n",
    "4. Google Colab\n",
    "5. MatLab\n",
    "6. Github\n",
    "7. Tableau"
   ]
  },
  {
   "cell_type": "markdown",
   "id": "13bc05d0",
   "metadata": {},
   "source": [
    "## Exercise 7 - Create a markdown cell introducing arithmetic expression examples\n",
    "\n"
   ]
  },
  {
   "cell_type": "markdown",
   "id": "ad215e18",
   "metadata": {},
   "source": [
    "### Addition\n",
    "result_add = 5 + 3  # Output: 8\n",
    "\n",
    "### Subtraction\n",
    "result_sub = 10 - 4  # Output: 6\n",
    "\n",
    "### Multiplication\n",
    "result_mul = 7 * 6  # Output: 42\n",
    "\n",
    "### Division\n",
    "result_div = 20 / 4  # Output: 5.0\n",
    "\n",
    "### Exponentiation\n",
    "result_exp = 2 ** 3  # Output: 8\n",
    "\n",
    "### Modulus\n",
    "result_mod = 17 % 5  # Output: 2"
   ]
  },
  {
   "cell_type": "markdown",
   "id": "e7985b6b",
   "metadata": {},
   "source": [
    "## Exercise 8 - Create a code cell to multiply and add numbers "
   ]
  },
  {
   "cell_type": "code",
   "execution_count": 3,
   "id": "ad9ebcee",
   "metadata": {},
   "outputs": [
    {
     "name": "stdout",
     "output_type": "stream",
     "text": [
      "27\n"
     ]
    }
   ],
   "source": [
    "a = (3*5)+12\n",
    "print(a)"
   ]
  },
  {
   "cell_type": "markdown",
   "id": "19c5200a",
   "metadata": {},
   "source": [
    "## Exercise 9 - Create a code cell to convert minutes to hours "
   ]
  },
  {
   "cell_type": "code",
   "execution_count": 13,
   "id": "6645913a",
   "metadata": {},
   "outputs": [
    {
     "name": "stdout",
     "output_type": "stream",
     "text": [
      "3 hours 20 minutes\n"
     ]
    }
   ],
   "source": [
    "minutes = 200\n",
    "hours = str((minutes // 60))+\" hours \"+str((minutes%60))+\" minutes\"\n",
    "print(hours)"
   ]
  },
  {
   "cell_type": "markdown",
   "id": "71ae1b35",
   "metadata": {},
   "source": [
    "## Exercise 10 - Insert a markdown cell to list Objectives "
   ]
  },
  {
   "cell_type": "markdown",
   "id": "576ea452",
   "metadata": {},
   "source": [
    "### Objective\n",
    "List of the programming languages use in data science, and also gain some knowledge of data manipulation and structured and unstructured data, analyzing data, creating aesthetic and interactive visualizations and creating powerful predictive models using machine learning algorithms"
   ]
  },
  {
   "cell_type": "markdown",
   "id": "6b253be7",
   "metadata": {},
   "source": [
    "## Author"
   ]
  },
  {
   "cell_type": "markdown",
   "id": "9171e176",
   "metadata": {},
   "source": [
    "**_Abhishek Das_**"
   ]
  },
  {
   "cell_type": "code",
   "execution_count": null,
   "id": "09428f59",
   "metadata": {},
   "outputs": [],
   "source": []
  }
 ],
 "metadata": {
  "kernelspec": {
   "display_name": "Python 3 (ipykernel)",
   "language": "python",
   "name": "python3"
  },
  "language_info": {
   "codemirror_mode": {
    "name": "ipython",
    "version": 3
   },
   "file_extension": ".py",
   "mimetype": "text/x-python",
   "name": "python",
   "nbconvert_exporter": "python",
   "pygments_lexer": "ipython3",
   "version": "3.9.7"
  }
 },
 "nbformat": 4,
 "nbformat_minor": 5
}
