{
 "cells": [
  {
   "cell_type": "markdown",
   "id": "e4f81d14",
   "metadata": {},
   "source": [
    "## Exercise 2: Create markdown cell with title of the notebook"
   ]
  },
  {
   "cell_type": "markdown",
   "id": "4506fec8",
   "metadata": {},
   "source": [
    "# Data Science Tools and Ecosystem"
   ]
  },
  {
   "cell_type": "markdown",
   "id": "2c286f7f",
   "metadata": {},
   "source": [
    "## Exercise 3 - Create a markdown cell for an introduction"
   ]
  },
  {
   "cell_type": "markdown",
   "id": "51aad9a4",
   "metadata": {},
   "source": [
    "In this notebook, Data Science Tools and Ecosystem are summarized."
   ]
  },
  {
   "cell_type": "markdown",
   "id": "4af3f188",
   "metadata": {},
   "source": [
    "## Exercise 4 - Create a markdown cell to list data science languages"
   ]
  },
  {
   "cell_type": "markdown",
   "id": "96399670",
   "metadata": {},
   "source": [
    "1. Python\n",
    "2. R\n",
    "3. Julia\n",
    "4. SQL (Structured Query Language)\n",
    "5. SAS (Statistical Analysis System)"
   ]
  },
  {
   "cell_type": "markdown",
   "id": "d9c8396b",
   "metadata": {},
   "source": [
    "## Exercise 5 - Create a markdown cell to list data science libraries"
   ]
  },
  {
   "cell_type": "markdown",
   "id": "695dc5c5",
   "metadata": {},
   "source": [
    "1. Pandas\n",
    "2. Keras\n",
    "3. TensorFlow\n",
    "4. PyTorch\n",
    "5. Scikit-Learn\n",
    "6. Numpy"
   ]
  },
  {
   "cell_type": "markdown",
   "id": "1a40cdf0",
   "metadata": {},
   "source": [
    "## Exercise 6 - Create a markdown cell with a table of Data Science tools"
   ]
  },
  {
   "cell_type": "markdown",
   "id": "461b242f",
   "metadata": {},
   "source": [
    "1. Jupyter Notebook\n",
    "2. Pycharm\n",
    "3. R Studio\n",
    "4. Google Colab\n",
    "5. MatLab\n",
    "6. Github\n",
    "7. Tableau"
   ]
  },
  {
   "cell_type": "markdown",
   "id": "027d4157",
   "metadata": {},
   "source": [
    "## Exercise 7 - Create a markdown cell introducing arithmetic expression examples\n",
    "\n"
   ]
  },
  {
   "cell_type": "markdown",
   "id": "bca1590e",
   "metadata": {},
   "source": [
    "### Addition\n",
    "result_add = 5 + 3  # Output: 8\n",
    "\n",
    "### Subtraction\n",
    "result_sub = 10 - 4  # Output: 6\n",
    "\n",
    "### Multiplication\n",
    "result_mul = 7 * 6  # Output: 42\n",
    "\n",
    "### Division\n",
    "result_div = 20 / 4  # Output: 5.0\n",
    "\n",
    "### Exponentiation\n",
    "result_exp = 2 ** 3  # Output: 8\n",
    "\n",
    "### Modulus\n",
    "result_mod = 17 % 5  # Output: 2"
   ]
  },
  {
   "cell_type": "markdown",
   "id": "8e765895",
   "metadata": {},
   "source": [
    "## Exercise 8 - Create a code cell to multiply and add numbers "
   ]
  },
  {
   "cell_type": "code",
   "execution_count": 3,
   "id": "6ce6bb5c",
   "metadata": {},
   "outputs": [
    {
     "name": "stdout",
     "output_type": "stream",
     "text": [
      "27\n"
     ]
    }
   ],
   "source": [
    "a = (3*5)+12\n",
    "print(a)"
   ]
  },
  {
   "cell_type": "markdown",
   "id": "f4ed86a8",
   "metadata": {},
   "source": [
    "## Exercise 9 - Create a code cell to convert minutes to hours "
   ]
  },
  {
   "cell_type": "code",
   "execution_count": 13,
   "id": "bd89b849",
   "metadata": {},
   "outputs": [
    {
     "name": "stdout",
     "output_type": "stream",
     "text": [
      "3 hours 20 minutes\n"
     ]
    }
   ],
   "source": [
    "minutes = 200\n",
    "hours = str((minutes // 60))+\" hours \"+str((minutes%60))+\" minutes\"\n",
    "print(hours)"
   ]
  },
  {
   "cell_type": "markdown",
   "id": "36dc333d",
   "metadata": {},
   "source": [
    "## Exercise 10 - Insert a markdown cell to list Objectives "
   ]
  },
  {
   "cell_type": "markdown",
   "id": "2f753cd2",
   "metadata": {},
   "source": [
    "### Objective\n",
    "List of the programming languages use in data science, and also gain some knowledge of data manipulation and structured and unstructured data, analyzing data, creating aesthetic and interactive visualizations and creating powerful predictive models using machine learning algorithms"
   ]
  },
  {
   "cell_type": "markdown",
   "id": "5b3542ee",
   "metadata": {},
   "source": [
    "## Author"
   ]
  },
  {
   "cell_type": "markdown",
   "id": "5746669c",
   "metadata": {},
   "source": [
    "**_Abhishek Das_**"
   ]
  },
  {
   "cell_type": "code",
   "execution_count": null,
   "id": "fdd60ff0",
   "metadata": {},
   "outputs": [],
   "source": []
  }
 ],
 "metadata": {
  "kernelspec": {
   "display_name": "Python 3 (ipykernel)",
   "language": "python",
   "name": "python3"
  },
  "language_info": {
   "codemirror_mode": {
    "name": "ipython",
    "version": 3
   },
   "file_extension": ".py",
   "mimetype": "text/x-python",
   "name": "python",
   "nbconvert_exporter": "python",
   "pygments_lexer": "ipython3",
   "version": "3.9.7"
  }
 },
 "nbformat": 4,
 "nbformat_minor": 5
}
